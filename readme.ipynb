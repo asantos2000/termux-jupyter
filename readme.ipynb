{
 "cells": [
  {
   "cell_type": "markdown",
   "metadata": {},
   "source": [
    "# Editing from my PC on my Android termux"
   ]
  },
  {
   "cell_type": "code",
   "execution_count": 1,
   "metadata": {},
   "outputs": [
    {
     "name": "stdout",
     "output_type": "stream",
     "text": [
      "Hello Android\n"
     ]
    }
   ],
   "source": [
    "print(\"Hello Android\")"
   ]
  },
  {
   "cell_type": "code",
   "execution_count": 2,
   "metadata": {},
   "outputs": [
    {
     "name": "stdout",
     "output_type": "stream",
     "text": [
      "Python 3.9.0\r\n"
     ]
    }
   ],
   "source": [
    "!python -V"
   ]
  },
  {
   "cell_type": "markdown",
   "metadata": {},
   "source": [
    "> Yes, it's latest version of python\n",
    "\n",
    "To install jupyter on termux android\n",
    "\n",
    "```bash\n",
    "pkg update \n",
    "\n",
    "pkg upgrade\n",
    "\n",
    "# Install runtime deps\n",
    "pkg install python libzmq libcrypt\n",
    "\n",
    "python -V\n",
    "\n",
    "pip --version\n",
    "\n",
    "pip install virtualenv\n",
    "\n",
    "mkdir my_books\n",
    "\n",
    "cd my_books/\n",
    "\n",
    "virtualenv my_books\n",
    "\n",
    "source my_books/bin/activate\n",
    "\n",
    "pip install jupyter\n",
    "```"
   ]
  },
  {
   "cell_type": "markdown",
   "metadata": {},
   "source": [
    "## Accessing your phone from ssh"
   ]
  },
  {
   "cell_type": "markdown",
   "metadata": {},
   "source": [
    "### On your machine\n",
    "\n",
    "```bash\n",
    "cat ~/.ssh/id_rsa.pub\n",
    "\n",
    "# if you don't have one \n",
    "\n",
    "ssh-keygen -t rsa -C \"your_email@example.com\"\n",
    "```"
   ]
  },
  {
   "cell_type": "markdown",
   "metadata": {},
   "source": [
    "### On termux (Android)\n",
    "\n",
    "```bash\n",
    "# start sshd\n",
    "\n",
    "sshd # pkill sshd # to kill sshd \n",
    "\n",
    "# On termux, check your user. Android will create one for each app\n",
    "\n",
    "whoami # termux\n",
    "\n",
    "# Discovery your IP\n",
    "\n",
    "ifconfig\n",
    "\n",
    "# Set password.\n",
    "\n",
    "passwd\n",
    "\n",
    "# On termux copy to authorized_key. You can use vi or any editor available\n",
    "\n",
    "echo <you public key here> > ~/.ssh/authorized_keys\n",
    "\n",
    "```"
   ]
  },
  {
   "cell_type": "markdown",
   "metadata": {},
   "source": [
    "## Connect throught ssh\n",
    "\n",
    "```bash\n",
    "ssh u0_a29@192.168.68.100 -p 8022 # remote pc\n",
    "\n",
    "# And start jupyter notebook\n",
    "\n",
    "jupyter notebook --ip 0.0.0.0\n",
    "\n",
    "# Copy URL and change the 127.0.0.0 ip to IP discovery above\n",
    "# Open it on your browser\n",
    "# That's it!!\n",
    "```\n",
    "\n",
    "> Remeber to keep your phone running, if it's lock you'll loose connection."
   ]
  },
  {
   "cell_type": "code",
   "execution_count": null,
   "metadata": {},
   "outputs": [],
   "source": []
  }
 ],
 "metadata": {
  "kernelspec": {
   "display_name": "Python 3",
   "language": "python",
   "name": "python3"
  },
  "language_info": {
   "codemirror_mode": {
    "name": "ipython",
    "version": 3
   },
   "file_extension": ".py",
   "mimetype": "text/x-python",
   "name": "python",
   "nbconvert_exporter": "python",
   "pygments_lexer": "ipython3",
   "version": "3.9.0"
  }
 },
 "nbformat": 4,
 "nbformat_minor": 4
}